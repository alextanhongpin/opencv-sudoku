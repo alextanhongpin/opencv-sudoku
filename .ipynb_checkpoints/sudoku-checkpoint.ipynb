{
 "cells": [
  {
   "cell_type": "code",
   "execution_count": 382,
   "metadata": {},
   "outputs": [],
   "source": [
    "import numpy as np"
   ]
  },
  {
   "cell_type": "code",
   "execution_count": 383,
   "metadata": {},
   "outputs": [],
   "source": [
    "# https://arxiv.org/pdf/cs/0011047.pdf"
   ]
  },
  {
   "cell_type": "code",
   "execution_count": 384,
   "metadata": {},
   "outputs": [],
   "source": [
    "A = [[0, 0, 1, 0, 1, 1, 0],\n",
    "     [1, 0, 0, 1, 0, 0, 1],\n",
    "     [0, 1, 1, 0, 0, 1, 0],\n",
    "     [1, 0, 0, 1, 0, 0, 0],\n",
    "     [0, 1, 0, 0, 0, 0, 1],\n",
    "     [0, 0, 0, 1, 1, 0, 1]]\n",
    "A = np.array(A)"
   ]
  },
  {
   "cell_type": "code",
   "execution_count": 385,
   "metadata": {},
   "outputs": [],
   "source": [
    "sudoku = np.array([[0, 0, 0, 0, 0, 4, 0, 9, 0],\n",
    "                   [8, 0, 2, 9, 7, 0, 0, 0, 0],\n",
    "                   [9, 0, 1, 2, 0, 0, 3, 0, 0],\n",
    "                   [0, 0, 0, 0, 4, 9, 1, 5, 7],\n",
    "                   [0, 1, 3, 0, 5, 0, 9, 2, 0],\n",
    "                   [5, 7, 9, 1, 2, 0, 0, 0, 0],\n",
    "                   [0, 0, 7, 0, 0, 2, 6, 0, 3],\n",
    "                   [0, 0, 0, 0, 3, 8, 2, 0, 5],\n",
    "                   [0, 2, 0, 5, 0, 0, 0, 0, 0]])\n",
    "# sudoku = np.array([[7, 3, 5, 6, 1, 4, 8, 9, 2],\n",
    "#                    [8, 4, 2, 9, 7, 3, 5, 6, 1],\n",
    "#                    [9, 6, 1, 2, 8, 5, 3, 7, 4],\n",
    "#                    [2, 8, 6, 3, 4, 9, 1, 5, 7],\n",
    "#                    [4, 1, 3, 8, 5, 7, 9, 2, 6],\n",
    "#                    [5, 7, 9, 1, 2, 6, 4, 3, 8],\n",
    "#                    [1, 5, 7, 4, 9, 2, 6, 8, 3],\n",
    "#                    [6, 9, 4, 7, 3, 8, 2, 1, 5],\n",
    "#                    [3, 2, 8, 5, 6, 1, 7, 4, 9]])"
   ]
  },
  {
   "cell_type": "code",
   "execution_count": 386,
   "metadata": {},
   "outputs": [],
   "source": [
    "# Data object, x.\n",
    "class X:\n",
    "    def __init__(self, column=None, value=None):\n",
    "        self.up = self.down = self.right = self.left = self\n",
    "        self.column = column # Points to the column object at the head of the relevant column.\n",
    "        self.value = value\n",
    "    def __str__(self):\n",
    "        return f'{self.column.name}:{self.value}'\n",
    "\n",
    "# Column object, y.\n",
    "class Y(X):\n",
    "    def __init__(self, value=None, name=''):\n",
    "        self.size = 0 # The number of 1s in the column.\n",
    "        self.name = name # Symbolic identifier for printing the answers.\n",
    "        \n",
    "        X.__init__(self, self, value)"
   ]
  },
  {
   "cell_type": "code",
   "execution_count": 387,
   "metadata": {},
   "outputs": [],
   "source": [
    "rows, cols = A.shape\n",
    "\n",
    "root = Y(name='root')\n",
    "\n",
    "# Use a human-readable label.\n",
    "labels = 'ABCDEFGHIJKLMNOPQRSTUVWXYZ'\n",
    "\n",
    "# Prepare the header list.\n",
    "curr = root\n",
    "for col in range(cols):\n",
    "    curr.right = Y(name=labels[col])\n",
    "    curr.right.left = curr\n",
    "    curr = curr.right\n",
    "curr.right = root\n",
    "curr.right.left = curr\n",
    "\n",
    "header = {}\n",
    "curr = root.right\n",
    "while curr != root:\n",
    "    header[curr.name] = curr\n",
    "    curr = curr.right"
   ]
  },
  {
   "cell_type": "code",
   "execution_count": 388,
   "metadata": {},
   "outputs": [],
   "source": [
    "for row in A:\n",
    "    prev = None\n",
    "    left = None\n",
    "    for j, col in enumerate(row):\n",
    "        head = header[labels[j]]\n",
    "        curr = head.up\n",
    "        if col == 1:\n",
    "            head.size += 1\n",
    "        curr.down = X(column=head, value=col)\n",
    "        curr.down.up = head.up\n",
    "        \n",
    "        curr = curr.down\n",
    "        curr.down = head\n",
    "        curr.down.up = curr\n",
    "        \n",
    "        if prev is None:\n",
    "            prev = curr\n",
    "            left = curr\n",
    "        else:\n",
    "            prev.right = curr\n",
    "            prev.right.left = prev\n",
    "        prev = curr\n",
    "    prev.right = left\n",
    "    prev.right.left = left"
   ]
  },
  {
   "cell_type": "code",
   "execution_count": 389,
   "metadata": {},
   "outputs": [],
   "source": [
    "def pprint():\n",
    "    keys = header.keys()\n",
    "    for key in keys:\n",
    "        node = header[key]\n",
    "        print(node.size)\n",
    "        curr = node.down\n",
    "        while curr != node:\n",
    "            print(curr)\n",
    "            curr = curr.down"
   ]
  },
  {
   "cell_type": "code",
   "execution_count": 390,
   "metadata": {},
   "outputs": [
    {
     "name": "stdout",
     "output_type": "stream",
     "text": [
      "2\n",
      "A:0\n",
      "A:1\n",
      "A:0\n",
      "A:1\n",
      "A:0\n",
      "A:0\n",
      "2\n",
      "B:0\n",
      "B:0\n",
      "B:1\n",
      "B:0\n",
      "B:1\n",
      "B:0\n",
      "2\n",
      "C:1\n",
      "C:0\n",
      "C:1\n",
      "C:0\n",
      "C:0\n",
      "C:0\n",
      "3\n",
      "D:0\n",
      "D:1\n",
      "D:0\n",
      "D:1\n",
      "D:0\n",
      "D:1\n",
      "2\n",
      "E:1\n",
      "E:0\n",
      "E:0\n",
      "E:0\n",
      "E:0\n",
      "E:1\n",
      "2\n",
      "F:1\n",
      "F:0\n",
      "F:1\n",
      "F:0\n",
      "F:0\n",
      "F:0\n",
      "3\n",
      "G:0\n",
      "G:1\n",
      "G:0\n",
      "G:0\n",
      "G:1\n",
      "G:1\n"
     ]
    }
   ],
   "source": [
    "pprint()"
   ]
  },
  {
   "cell_type": "code",
   "execution_count": 391,
   "metadata": {},
   "outputs": [],
   "source": [
    "# Choose a column object.\n",
    "def column_object_heuristic(root):\n",
    "    '''\n",
    "    Attempt to select the column object with the smallest size.\n",
    "    '''\n",
    "    curr = root.right\n",
    "    size = float('inf')\n",
    "    c = None\n",
    "    while curr != root:\n",
    "        if curr.size < size:\n",
    "            size = curr.size\n",
    "            c = curr\n",
    "        curr = curr.right\n",
    "    return c"
   ]
  },
  {
   "cell_type": "code",
   "execution_count": 392,
   "metadata": {},
   "outputs": [],
   "source": [
    "# column_object_heuristic(root).name"
   ]
  },
  {
   "cell_type": "code",
   "execution_count": 393,
   "metadata": {},
   "outputs": [],
   "source": [
    "def cover(col):\n",
    "    col.right.left = col.left\n",
    "    col.left.right = col.right\n",
    "    i = col.down\n",
    "    while i != col:\n",
    "        j = i.right\n",
    "        while j != i:\n",
    "            j.down.up = j.up\n",
    "            j.up.down = j.down\n",
    "            j.column.size -= 1    \n",
    "            j = j.right\n",
    "        i = i.down"
   ]
  },
  {
   "cell_type": "code",
   "execution_count": 394,
   "metadata": {},
   "outputs": [],
   "source": [
    "def uncover(col):\n",
    "    i = col.up\n",
    "    while i != col:\n",
    "        j = i.left\n",
    "        while j != i:\n",
    "            j.column.size += 1\n",
    "            j.down.up = j\n",
    "            j.up.down = j\n",
    "            j = j.left\n",
    "        i = i.up\n",
    "    col.right.left = col\n",
    "    col.left.right = col"
   ]
  },
  {
   "cell_type": "code",
   "execution_count": 395,
   "metadata": {},
   "outputs": [],
   "source": [
    "def search(root, k=0):\n",
    "    if root == root.right:\n",
    "        return\n",
    "    \n",
    "    col = column_object_heuristic(root)\n",
    "    print(col.column.name, col.column.size)\n",
    "    cover(col)\n",
    "    \n",
    "    r = col.down\n",
    "    while r != col:\n",
    "        ok = r\n",
    "        print(ok.column.name)\n",
    "        \n",
    "        j = r.right\n",
    "        while j != r:\n",
    "            cover(j)\n",
    "            j = j.right\n",
    "        \n",
    "        search(root, k+1)\n",
    "        \n",
    "        r = ok\n",
    "        col = r.right\n",
    "        \n",
    "        j = r.left\n",
    "        while j != r:\n",
    "            uncover(j)\n",
    "            j = j.left\n",
    "        \n",
    "        r = r.down\n",
    "    uncover(col)"
   ]
  },
  {
   "cell_type": "code",
   "execution_count": 396,
   "metadata": {},
   "outputs": [
    {
     "name": "stdout",
     "output_type": "stream",
     "text": [
      "A 2\n",
      "A\n"
     ]
    },
    {
     "ename": "KeyboardInterrupt",
     "evalue": "",
     "output_type": "error",
     "traceback": [
      "\u001b[0;31m---------------------------------------------------------------------------\u001b[0m",
      "\u001b[0;31mKeyboardInterrupt\u001b[0m                         Traceback (most recent call last)",
      "\u001b[0;32m<ipython-input-396-82f18a0afb8b>\u001b[0m in \u001b[0;36m<module>\u001b[0;34m\u001b[0m\n\u001b[0;32m----> 1\u001b[0;31m \u001b[0msearch\u001b[0m\u001b[0;34m(\u001b[0m\u001b[0mroot\u001b[0m\u001b[0;34m)\u001b[0m\u001b[0;34m\u001b[0m\u001b[0;34m\u001b[0m\u001b[0m\n\u001b[0m\u001b[1;32m      2\u001b[0m \u001b[0;31m# col = column_object_heuristic(root)\u001b[0m\u001b[0;34m\u001b[0m\u001b[0;34m\u001b[0m\u001b[0;34m\u001b[0m\u001b[0m\n\u001b[1;32m      3\u001b[0m \u001b[0;31m# cover(col)\u001b[0m\u001b[0;34m\u001b[0m\u001b[0;34m\u001b[0m\u001b[0;34m\u001b[0m\u001b[0m\n\u001b[1;32m      4\u001b[0m \u001b[0;31m# col.column.name\u001b[0m\u001b[0;34m\u001b[0m\u001b[0;34m\u001b[0m\u001b[0;34m\u001b[0m\u001b[0m\n",
      "\u001b[0;32m<ipython-input-395-847152a3897f>\u001b[0m in \u001b[0;36msearch\u001b[0;34m(root, k)\u001b[0m\n\u001b[1;32m     14\u001b[0m         \u001b[0mj\u001b[0m \u001b[0;34m=\u001b[0m \u001b[0mr\u001b[0m\u001b[0;34m.\u001b[0m\u001b[0mright\u001b[0m\u001b[0;34m\u001b[0m\u001b[0;34m\u001b[0m\u001b[0m\n\u001b[1;32m     15\u001b[0m         \u001b[0;32mwhile\u001b[0m \u001b[0mj\u001b[0m \u001b[0;34m!=\u001b[0m \u001b[0mr\u001b[0m\u001b[0;34m:\u001b[0m\u001b[0;34m\u001b[0m\u001b[0;34m\u001b[0m\u001b[0m\n\u001b[0;32m---> 16\u001b[0;31m             \u001b[0mcover\u001b[0m\u001b[0;34m(\u001b[0m\u001b[0mj\u001b[0m\u001b[0;34m)\u001b[0m\u001b[0;34m\u001b[0m\u001b[0;34m\u001b[0m\u001b[0m\n\u001b[0m\u001b[1;32m     17\u001b[0m             \u001b[0mj\u001b[0m \u001b[0;34m=\u001b[0m \u001b[0mj\u001b[0m\u001b[0;34m.\u001b[0m\u001b[0mright\u001b[0m\u001b[0;34m\u001b[0m\u001b[0;34m\u001b[0m\u001b[0m\n\u001b[1;32m     18\u001b[0m \u001b[0;34m\u001b[0m\u001b[0m\n",
      "\u001b[0;32m<ipython-input-393-b49e9eaa6d10>\u001b[0m in \u001b[0;36mcover\u001b[0;34m(col)\u001b[0m\n\u001b[1;32m      8\u001b[0m             \u001b[0mj\u001b[0m\u001b[0;34m.\u001b[0m\u001b[0mdown\u001b[0m\u001b[0;34m.\u001b[0m\u001b[0mup\u001b[0m \u001b[0;34m=\u001b[0m \u001b[0mj\u001b[0m\u001b[0;34m.\u001b[0m\u001b[0mup\u001b[0m\u001b[0;34m\u001b[0m\u001b[0;34m\u001b[0m\u001b[0m\n\u001b[1;32m      9\u001b[0m             \u001b[0mj\u001b[0m\u001b[0;34m.\u001b[0m\u001b[0mup\u001b[0m\u001b[0;34m.\u001b[0m\u001b[0mdown\u001b[0m \u001b[0;34m=\u001b[0m \u001b[0mj\u001b[0m\u001b[0;34m.\u001b[0m\u001b[0mdown\u001b[0m\u001b[0;34m\u001b[0m\u001b[0;34m\u001b[0m\u001b[0m\n\u001b[0;32m---> 10\u001b[0;31m             \u001b[0mj\u001b[0m\u001b[0;34m.\u001b[0m\u001b[0mcolumn\u001b[0m\u001b[0;34m.\u001b[0m\u001b[0msize\u001b[0m \u001b[0;34m-=\u001b[0m \u001b[0;36m1\u001b[0m\u001b[0;34m\u001b[0m\u001b[0;34m\u001b[0m\u001b[0m\n\u001b[0m\u001b[1;32m     11\u001b[0m             \u001b[0mj\u001b[0m \u001b[0;34m=\u001b[0m \u001b[0mj\u001b[0m\u001b[0;34m.\u001b[0m\u001b[0mright\u001b[0m\u001b[0;34m\u001b[0m\u001b[0;34m\u001b[0m\u001b[0m\n\u001b[1;32m     12\u001b[0m         \u001b[0mi\u001b[0m \u001b[0;34m=\u001b[0m \u001b[0mi\u001b[0m\u001b[0;34m.\u001b[0m\u001b[0mdown\u001b[0m\u001b[0;34m\u001b[0m\u001b[0;34m\u001b[0m\u001b[0m\n",
      "\u001b[0;31mKeyboardInterrupt\u001b[0m: "
     ]
    }
   ],
   "source": [
    "search(root)\n",
    "# col = column_object_heuristic(root)\n",
    "# cover(col)\n",
    "# col.column.name"
   ]
  },
  {
   "cell_type": "code",
   "execution_count": null,
   "metadata": {},
   "outputs": [],
   "source": [
    "# col.right.name"
   ]
  },
  {
   "cell_type": "code",
   "execution_count": null,
   "metadata": {},
   "outputs": [],
   "source": [
    "# node = header['B']\n",
    "# curr = node.down\n",
    "# while curr != node:\n",
    "#     print(curr)\n",
    "#     curr = node.down"
   ]
  },
  {
   "cell_type": "code",
   "execution_count": null,
   "metadata": {},
   "outputs": [],
   "source": []
  }
 ],
 "metadata": {
  "kernelspec": {
   "display_name": "Python 3",
   "language": "python",
   "name": "python3"
  },
  "language_info": {
   "codemirror_mode": {
    "name": "ipython",
    "version": 3
   },
   "file_extension": ".py",
   "mimetype": "text/x-python",
   "name": "python",
   "nbconvert_exporter": "python",
   "pygments_lexer": "ipython3",
   "version": "3.7.4"
  }
 },
 "nbformat": 4,
 "nbformat_minor": 2
}
