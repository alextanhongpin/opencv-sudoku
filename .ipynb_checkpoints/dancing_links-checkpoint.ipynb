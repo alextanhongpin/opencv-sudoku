{
 "cells": [
  {
   "cell_type": "code",
   "execution_count": 396,
   "metadata": {},
   "outputs": [],
   "source": [
    "import numpy as np\n",
    "import copy\n",
    "import random"
   ]
  },
  {
   "cell_type": "code",
   "execution_count": 815,
   "metadata": {},
   "outputs": [],
   "source": [
    "A = [[0, 0, 1, 0, 1, 1, 0],\n",
    "     [1, 0, 0, 1, 0, 0, 1],\n",
    "     [0, 1, 1, 0, 0, 1, 0],\n",
    "     [1, 0, 0, 1, 0, 0, 0],\n",
    "     [0, 1, 0, 0, 0, 0, 1],\n",
    "     [0, 0, 0, 1, 1, 0, 1]]\n",
    "A = np.array(A)"
   ]
  },
  {
   "cell_type": "code",
   "execution_count": 816,
   "metadata": {},
   "outputs": [
    {
     "data": {
      "text/plain": [
       "(6, 7)"
      ]
     },
     "execution_count": 816,
     "metadata": {},
     "output_type": "execute_result"
    }
   ],
   "source": [
    "rows, cols = A.shape\n",
    "rows, cols"
   ]
  },
  {
   "cell_type": "code",
   "execution_count": 823,
   "metadata": {},
   "outputs": [],
   "source": [
    "def algorithm_x(A, result = None, x = None, y = None):\n",
    "    if x is None: \n",
    "        x = set()\n",
    "    if y is None:\n",
    "        y = set()\n",
    "    if result is None:\n",
    "        result = []\n",
    "    \n",
    "    if A.size == 0:\n",
    "        return\n",
    "\n",
    "    rows, cols = A.shape\n",
    "    tgt_rows = list(set(range(rows)) - x)\n",
    "    tgt_cols = list(set(range(cols)) - y)\n",
    "    \n",
    "    B = A[tgt_rows, :]\n",
    "    B = B[:, tgt_cols]\n",
    "\n",
    "    # If A is empty, the problem is solved; terminate successfully.\n",
    "    if B.size == 0:\n",
    "        return result\n",
    "\n",
    "    rows, cols = B.shape\n",
    "    if rows == 0 or cols == 0: return result\n",
    "    \n",
    "    # Otherwise, choose a column, c (deterministically).\n",
    "    c = B.sum(axis=0).argmax()\n",
    "    \n",
    "    # Choose a row, r, such that A[r, c] = 1 (nondeterministically).\n",
    "#     r = np.where(B[:, c] == 1)[0][0]\n",
    "    candidate_r = np.where(B[:, c] == 1)[0]\n",
    "    if (len(candidate_r)) == 0:\n",
    "        return result\n",
    "    r = random.choice(candidate_r)\n",
    "\n",
    "    # Include r in the partial solution.\n",
    "    result.append(tgt_rows[r])\n",
    "\n",
    "    # For each j (col) such that A[r, j] == 1,\n",
    "    for j in range(cols):\n",
    "        if B[r, j] == 1:\n",
    "            # Delete column j from matrix A.\n",
    "            y.add(tgt_cols[j])\n",
    "\n",
    "            # For each i (row) such that A[i, j] == 1,\n",
    "            for i in range(rows):\n",
    "                if B[i, j] == 1:\n",
    "                    # Delete row i from matrix A.\n",
    "                    x.add(tgt_rows[i])\n",
    "                    \n",
    "    # Repeat this algorithm recursively on the reduced matrix A.\n",
    "    return algorithm_x(A, result, x, y)"
   ]
  },
  {
   "cell_type": "code",
   "execution_count": 829,
   "metadata": {},
   "outputs": [
    {
     "data": {
      "text/plain": [
       "([3, 4, 0], array([1, 1, 1, 1, 1, 1, 1]))"
      ]
     },
     "execution_count": 829,
     "metadata": {},
     "output_type": "execute_result"
    }
   ],
   "source": [
    "# The result is the rows of A that contains columns that does not overlap.\n",
    "result = algorithm_x(A)\n",
    "\n",
    "# Select all rows of the result.\n",
    "output = A[result, :]\n",
    "\n",
    "# Find the sum of the row - it should not be more than 1.\n",
    "output = output.sum(axis=0)\n",
    "result, output"
   ]
  },
  {
   "cell_type": "code",
   "execution_count": 825,
   "metadata": {},
   "outputs": [
    {
     "data": {
      "text/plain": [
       "array([[0., 0., 3., 0., 5., 6., 0.],\n",
       "       [1., 0., 0., 4., 0., 0., 7.],\n",
       "       [0., 2., 3., 0., 0., 6., 0.],\n",
       "       [1., 0., 0., 4., 0., 0., 0.],\n",
       "       [0., 2., 0., 0., 0., 0., 7.],\n",
       "       [0., 0., 0., 4., 5., 0., 7.]])"
      ]
     },
     "execution_count": 825,
     "metadata": {},
     "output_type": "execute_result"
    }
   ],
   "source": [
    "B = np.zeros(A.shape)\n",
    "for i, row in enumerate(A):\n",
    "    for j, col in enumerate(row):\n",
    "        if col == 1:\n",
    "            B[i, j] = j + 1\n",
    "B"
   ]
  },
  {
   "cell_type": "code",
   "execution_count": 830,
   "metadata": {},
   "outputs": [
    {
     "data": {
      "text/plain": [
       "[]"
      ]
     },
     "execution_count": 830,
     "metadata": {},
     "output_type": "execute_result"
    }
   ],
   "source": [
    "# This does not work, since our previous solution only works on 1s.\n",
    "algorithm_x(B)"
   ]
  },
  {
   "cell_type": "code",
   "execution_count": null,
   "metadata": {},
   "outputs": [],
   "source": []
  }
 ],
 "metadata": {
  "kernelspec": {
   "display_name": "Python 3",
   "language": "python",
   "name": "python3"
  },
  "language_info": {
   "codemirror_mode": {
    "name": "ipython",
    "version": 3
   },
   "file_extension": ".py",
   "mimetype": "text/x-python",
   "name": "python",
   "nbconvert_exporter": "python",
   "pygments_lexer": "ipython3",
   "version": "3.7.4"
  }
 },
 "nbformat": 4,
 "nbformat_minor": 2
}
